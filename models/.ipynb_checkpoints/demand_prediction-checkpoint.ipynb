{
 "cells": [
  {
   "cell_type": "code",
   "execution_count": 47,
   "id": "d8e9d477",
   "metadata": {},
   "outputs": [],
   "source": [
    "import numpy as np \n",
    "import pandas as pd \n",
    "import plotly.express as px\n",
    "import enlighten\n",
    "import matplotlib.pyplot as plt\n",
    "from sklearn.model_selection import train_test_split\n",
    "from sklearn.feature_extraction.text import CountVectorizer\n",
    "from sklearn.pipeline import Pipeline\n",
    "from sklearn.neural_network import MLPClassifier\n",
    "from sklearn.preprocessing import StandardScaler\n",
    "from sklearn.svm import SVC\n",
    "from scipy.spatial import distance"
   ]
  },
  {
   "cell_type": "markdown",
   "id": "4245229f",
   "metadata": {},
   "source": [
    "## first we preprocess the data, we separate by hour and tokenize the stations"
   ]
  },
  {
   "cell_type": "code",
   "execution_count": 49,
   "id": "932e20d2",
   "metadata": {},
   "outputs": [],
   "source": [
    "demand=pd.read_csv('./../42Hacks-FlexTrains/generated_demand/demand_1000.csv')\n",
    "demand['Lat']\n",
    "demand['Lon']\n",
    "demand['time_for_walk']=pd.to_datetime(demand['time_for_walk'])\n",
    "demand['time_for_walk'].map(lambda x: x.hour)\n",
    "\n",
    "X=np.zeros((demand.shape[0],3))\n",
    "X[:,0]=demand['Lat'].to_numpy()\n",
    "X[:,1]=demand['Lon'].to_numpy()\n",
    "X[:,2]=demand['time_for_walk'].map(lambda x: x.hour)\n",
    "#now we tokenize \n",
    "vectorizer = CountVectorizer()\n",
    "vectorizer2 = CountVectorizer()\n",
    "Tokens = vectorizer.fit_transform(demand['id_busStop'])\n",
    "Y=demand['id_TrainStation']\n",
    "#to know the tokenization \n",
    "#features = vectorizer.get_feature_names()\n",
    "X_encoded=np.concatenate((X, Tokens.toarray()), axis=1)\n",
    "X_train, X_test, y_train, y_test = train_test_split(X, Y,random_state=0)"
   ]
  },
  {
   "cell_type": "markdown",
   "id": "2bed4159",
   "metadata": {},
   "source": [
    "## Now we train the NN mlp"
   ]
  },
  {
   "cell_type": "code",
   "execution_count": 50,
   "id": "a281ba30",
   "metadata": {},
   "outputs": [
    {
     "data": {
      "text/plain": [
       "Pipeline(steps=[('scaler', StandardScaler()), ('svc', SVC())])"
      ]
     },
     "execution_count": 50,
     "metadata": {},
     "output_type": "execute_result"
    }
   ],
   "source": [
    "pipe = Pipeline([('scaler', StandardScaler()), ('svc', SVC())])\n",
    "pipe.fit(X_train, y_train)"
   ]
  },
  {
   "cell_type": "markdown",
   "id": "4d39401b",
   "metadata": {},
   "source": [
    "## Now we test the predictions "
   ]
  },
  {
   "cell_type": "code",
   "execution_count": 52,
   "id": "f4f65b84",
   "metadata": {},
   "outputs": [
    {
     "data": {
      "text/plain": [
       "0.004"
      ]
     },
     "execution_count": 52,
     "metadata": {},
     "output_type": "execute_result"
    }
   ],
   "source": [
    "pipe.score(X_test,y_test)"
   ]
  },
  {
   "cell_type": "code",
   "execution_count": 18,
   "id": "33c0259b",
   "metadata": {},
   "outputs": [
    {
     "data": {
      "text/plain": [
       "0       0\n",
       "1       0\n",
       "2       0\n",
       "3       0\n",
       "4       0\n",
       "       ..\n",
       "995    10\n",
       "996    10\n",
       "997    10\n",
       "998    10\n",
       "999    10\n",
       "Name: time_for_walk, Length: 1000, dtype: int64"
      ]
     },
     "execution_count": 18,
     "metadata": {},
     "output_type": "execute_result"
    }
   ],
   "source": [
    "demand['time_for_walk'].map(lambda x: x.hour)"
   ]
  },
  {
   "cell_type": "code",
   "execution_count": 30,
   "id": "cb841583",
   "metadata": {},
   "outputs": [
    {
     "name": "stdout",
     "output_type": "stream",
     "text": [
      "(1000, 26)\n"
     ]
    }
   ],
   "source": [
    "vectorizer = CountVectorizer()\n",
    "X = vectorizer.fit_transform(demand['id_busStop'])\n",
    "features = vectorizer.get_feature_names()\n",
    "print(X.toarray().shape)"
   ]
  },
  {
   "cell_type": "code",
   "execution_count": 8,
   "id": "2a861601",
   "metadata": {},
   "outputs": [
    {
     "data": {
      "text/html": [
       "<div>\n",
       "<style scoped>\n",
       "    .dataframe tbody tr th:only-of-type {\n",
       "        vertical-align: middle;\n",
       "    }\n",
       "\n",
       "    .dataframe tbody tr th {\n",
       "        vertical-align: top;\n",
       "    }\n",
       "\n",
       "    .dataframe thead th {\n",
       "        text-align: right;\n",
       "    }\n",
       "</style>\n",
       "<table border=\"1\" class=\"dataframe\">\n",
       "  <thead>\n",
       "    <tr style=\"text-align: right;\">\n",
       "      <th></th>\n",
       "      <th>Unnamed: 0</th>\n",
       "      <th>index</th>\n",
       "      <th>Date/Time</th>\n",
       "      <th>Lat</th>\n",
       "      <th>Lon</th>\n",
       "      <th>Base</th>\n",
       "      <th>id_busStop</th>\n",
       "      <th>id_TrainStation</th>\n",
       "      <th>time_for_walk</th>\n",
       "      <th>time_for_bus</th>\n",
       "    </tr>\n",
       "  </thead>\n",
       "  <tbody>\n",
       "    <tr>\n",
       "      <th>0</th>\n",
       "      <td>0</td>\n",
       "      <td>0</td>\n",
       "      <td>2014-08-01 00:03:00</td>\n",
       "      <td>40.7366</td>\n",
       "      <td>-73.9906</td>\n",
       "      <td>B02512</td>\n",
       "      <td>152_bus_M15-SBS:1</td>\n",
       "      <td>136_subway_C:0</td>\n",
       "      <td>2014-08-01 00:03:00</td>\n",
       "      <td>2014-08-01 00:06:58.175473380</td>\n",
       "    </tr>\n",
       "    <tr>\n",
       "      <th>1</th>\n",
       "      <td>1</td>\n",
       "      <td>3</td>\n",
       "      <td>2014-08-01 00:12:00</td>\n",
       "      <td>40.7387</td>\n",
       "      <td>-73.9856</td>\n",
       "      <td>B02512</td>\n",
       "      <td>152_bus_M15-SBS:1</td>\n",
       "      <td>39_subway_N:1</td>\n",
       "      <td>2014-08-01 00:12:00</td>\n",
       "      <td>2014-08-01 00:17:50.227169220</td>\n",
       "    </tr>\n",
       "    <tr>\n",
       "      <th>2</th>\n",
       "      <td>2</td>\n",
       "      <td>9</td>\n",
       "      <td>2014-08-01 00:20:00</td>\n",
       "      <td>40.7448</td>\n",
       "      <td>-73.9799</td>\n",
       "      <td>B02512</td>\n",
       "      <td>122_bus_M15:0</td>\n",
       "      <td>41_subway_Q:0</td>\n",
       "      <td>2014-08-01 00:20:00</td>\n",
       "      <td>2014-08-01 00:28:29.057943900</td>\n",
       "    </tr>\n",
       "    <tr>\n",
       "      <th>3</th>\n",
       "      <td>3</td>\n",
       "      <td>10</td>\n",
       "      <td>2014-08-01 00:21:00</td>\n",
       "      <td>40.7399</td>\n",
       "      <td>-74.0057</td>\n",
       "      <td>B02512</td>\n",
       "      <td>127_bus_M11:1</td>\n",
       "      <td>29_subway_A:1</td>\n",
       "      <td>2014-08-01 00:21:00</td>\n",
       "      <td>2014-08-01 00:28:40.143447780</td>\n",
       "    </tr>\n",
       "    <tr>\n",
       "      <th>4</th>\n",
       "      <td>4</td>\n",
       "      <td>11</td>\n",
       "      <td>2014-08-01 00:25:00</td>\n",
       "      <td>40.7651</td>\n",
       "      <td>-73.9683</td>\n",
       "      <td>B02512</td>\n",
       "      <td>86_bus_Q32:0</td>\n",
       "      <td>154_subway_1:1</td>\n",
       "      <td>2014-08-01 00:25:00</td>\n",
       "      <td>2014-08-01 00:29:55.362038280</td>\n",
       "    </tr>\n",
       "  </tbody>\n",
       "</table>\n",
       "</div>"
      ],
      "text/plain": [
       "   Unnamed: 0  index            Date/Time      Lat      Lon    Base  \\\n",
       "0           0      0  2014-08-01 00:03:00  40.7366 -73.9906  B02512   \n",
       "1           1      3  2014-08-01 00:12:00  40.7387 -73.9856  B02512   \n",
       "2           2      9  2014-08-01 00:20:00  40.7448 -73.9799  B02512   \n",
       "3           3     10  2014-08-01 00:21:00  40.7399 -74.0057  B02512   \n",
       "4           4     11  2014-08-01 00:25:00  40.7651 -73.9683  B02512   \n",
       "\n",
       "          id_busStop id_TrainStation        time_for_walk  \\\n",
       "0  152_bus_M15-SBS:1  136_subway_C:0  2014-08-01 00:03:00   \n",
       "1  152_bus_M15-SBS:1   39_subway_N:1  2014-08-01 00:12:00   \n",
       "2      122_bus_M15:0   41_subway_Q:0  2014-08-01 00:20:00   \n",
       "3      127_bus_M11:1   29_subway_A:1  2014-08-01 00:21:00   \n",
       "4       86_bus_Q32:0  154_subway_1:1  2014-08-01 00:25:00   \n",
       "\n",
       "                    time_for_bus  \n",
       "0  2014-08-01 00:06:58.175473380  \n",
       "1  2014-08-01 00:17:50.227169220  \n",
       "2  2014-08-01 00:28:29.057943900  \n",
       "3  2014-08-01 00:28:40.143447780  \n",
       "4  2014-08-01 00:29:55.362038280  "
      ]
     },
     "execution_count": 8,
     "metadata": {},
     "output_type": "execute_result"
    }
   ],
   "source": [
    "demand.head()"
   ]
  },
  {
   "cell_type": "code",
   "execution_count": 38,
   "id": "6dcb17a8",
   "metadata": {},
   "outputs": [
    {
     "data": {
      "text/plain": [
       "array([[ 40.7585, -73.9869,  15.    , ...,   0.    ,   0.    ,   0.    ],\n",
       "       [ 40.7359, -74.0053,  13.    , ...,   0.    ,   0.    ,   0.    ],\n",
       "       [ 40.7472, -73.9898,   9.    , ...,   0.    ,   0.    ,   0.    ],\n",
       "       ...,\n",
       "       [ 40.7654, -73.9831,  10.    , ...,   0.    ,   0.    ,   0.    ],\n",
       "       [ 40.756 , -73.9871,   0.    , ...,   0.    ,   0.    ,   0.    ],\n",
       "       [ 40.7416, -74.0036,  14.    , ...,   0.    ,   0.    ,   0.    ]])"
      ]
     },
     "execution_count": 38,
     "metadata": {},
     "output_type": "execute_result"
    }
   ],
   "source": []
  },
  {
   "cell_type": "code",
   "execution_count": null,
   "id": "01cb5745",
   "metadata": {},
   "outputs": [],
   "source": []
  }
 ],
 "metadata": {
  "kernelspec": {
   "display_name": "Python 3 (ipykernel)",
   "language": "python",
   "name": "python3"
  },
  "language_info": {
   "codemirror_mode": {
    "name": "ipython",
    "version": 3
   },
   "file_extension": ".py",
   "mimetype": "text/x-python",
   "name": "python",
   "nbconvert_exporter": "python",
   "pygments_lexer": "ipython3",
   "version": "3.9.7"
  }
 },
 "nbformat": 4,
 "nbformat_minor": 5
}
