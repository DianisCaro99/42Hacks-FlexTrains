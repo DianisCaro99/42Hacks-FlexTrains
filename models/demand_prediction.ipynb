{
 "cells": [
  {
   "cell_type": "code",
   "execution_count": 77,
   "id": "c1215f94",
   "metadata": {},
   "outputs": [],
   "source": [
    "import numpy as np \n",
    "import pandas as pd \n",
    "import plotly.express as px\n",
    "import enlighten\n",
    "import matplotlib.pyplot as plt\n",
    "from sklearn.model_selection import train_test_split\n",
    "from sklearn.feature_extraction.text import CountVectorizer\n",
    "from sklearn.pipeline import Pipeline\n",
    "from sklearn.neural_network import MLPClassifier\n",
    "from sklearn.preprocessing import MinMaxScaler\n",
    "from sklearn.naive_bayes import MultinomialNB\n",
    "from sklearn.svm import SVC\n",
    "from scipy.spatial import distance\n",
    "\n",
    "\n",
    "## let's try use pytorch \n",
    "\n",
    "import torch\n",
    "import torch.nn as nn\n",
    "import torch.nn.functional as F\n",
    "import torch.optim as optim\n",
    "import torch.utils.data as data\n",
    "\n",
    "import torchvision.transforms as transforms\n",
    "import torchvision.datasets as datasets\n",
    "\n",
    "from sklearn import metrics\n",
    "from sklearn import decomposition\n",
    "from sklearn import manifold\n",
    "import matplotlib.pyplot as plt\n",
    "import numpy as np\n",
    "\n",
    "import copy\n",
    "import random\n",
    "import time"
   ]
  },
  {
   "cell_type": "code",
   "execution_count": 81,
   "id": "4cdc9ecb",
   "metadata": {},
   "outputs": [],
   "source": [
    "SEED = 1234\n",
    "\n",
    "random.seed(SEED)\n",
    "np.random.seed(SEED)\n",
    "torch.manual_seed(SEED)\n",
    "torch.cuda.manual_seed(SEED)\n",
    "torch.backends.cudnn.deterministic = True"
   ]
  },
  {
   "cell_type": "markdown",
   "id": "d43ced7f",
   "metadata": {},
   "source": [
    "## first we preprocess the data, we separate by hour and tokenize the stations"
   ]
  },
  {
   "cell_type": "code",
   "execution_count": 159,
   "id": "79d00dc3",
   "metadata": {},
   "outputs": [],
   "source": [
    "demand=pd.read_csv('./../42Hacks-FlexTrains/generated_demand/demand_1000.csv')\n",
    "demand['Lat']\n",
    "demand['Lon']\n",
    "demand['time_for_walk']=pd.to_datetime(demand['time_for_walk'])\n",
    "demand['time_for_walk'].map(lambda x: x.hour)\n",
    "\n",
    "X=np.zeros((demand.shape[0],3))\n",
    "X[:,0]=demand['Lat'].to_numpy()\n",
    "X[:,1]=demand['Lon'].to_numpy()\n",
    "X[:,2]=demand['time_for_walk'].map(lambda x: x.hour)\n",
    "#now we tokenize \n",
    "vectorizer = CountVectorizer()\n",
    "vectorizer2 = CountVectorizer()\n",
    "Tokens = vectorizer.fit_transform(demand['id_busStop'])\n",
    "d = dict([(y,x+1) for x,y in enumerate(sorted(set(demand['id_TrainStation'])))])\n",
    "Y=demand['id_TrainStation'].map(lambda x: d[x]).to_numpy()\n",
    "#to know the tokenization \n",
    "#features = vectorizer.get_feature_names()\n",
    "X_encoded=np.concatenate((X, Tokens.toarray()), axis=1)\n",
    "X_train, X_test, Y_train, Y_test = train_test_split(X, Y,random_state=0)\n",
    "x_train = torch.FloatTensor(X_train)\n",
    "y_train = torch.FloatTensor(Y_train).type(torch.LongTensor)\n",
    "x_test = torch.FloatTensor(X_test)\n",
    "y_test = torch.FloatTensor(Y_test).type(torch.LongTensor)\n",
    "# Now in the format they want \n",
    "train_data=[]\n",
    "for i in range(x_train.shape[0]):\n",
    "    train_data.append((x_train[i],y_train[i]))\n",
    "\n",
    "#test data\n",
    "test_data=[]\n",
    "for i in range(x_test.shape[0]):\n",
    "    test_data.append((x_test[i],y_test[i]))\n"
   ]
  },
  {
   "cell_type": "code",
   "execution_count": 160,
   "id": "b5000414",
   "metadata": {},
   "outputs": [],
   "source": [
    "BATCH_SIZE = 64\n",
    "\n",
    "train_iterator = data.DataLoader(train_data, \n",
    "                                 shuffle = True, \n",
    "                                 batch_size = BATCH_SIZE)\n",
    "\n",
    "valid_iterator = data.DataLoader(test_data, \n",
    "                                 batch_size = BATCH_SIZE)\n",
    "\n",
    "test_iterator = data.DataLoader(test_data, \n",
    "                                batch_size = BATCH_SIZE)"
   ]
  },
  {
   "cell_type": "markdown",
   "id": "14b34e96",
   "metadata": {},
   "source": [
    "## Now we train the NN mlp"
   ]
  },
  {
   "cell_type": "code",
   "execution_count": 94,
   "id": "7e7e4278",
   "metadata": {},
   "outputs": [],
   "source": [
    "class MLP(nn.Module):\n",
    "    def __init__(self, input_dim, output_dim):\n",
    "        super().__init__()\n",
    "                \n",
    "        self.input_fc = nn.Linear(input_dim, 250)\n",
    "        self.hidden_fc = nn.Linear(250, 100)\n",
    "        self.output_fc = nn.Linear(100, output_dim)\n",
    "        \n",
    "    def forward(self, x):\n",
    "        \n",
    "        #x = [batch size, height, width]\n",
    "        \n",
    "        batch_size = x.shape[0]\n",
    "\n",
    "        x = x.view(batch_size, -1)\n",
    "        \n",
    "        #x = [batch size, height * width]\n",
    "        \n",
    "        h_1 = F.relu(self.input_fc(x))\n",
    "        \n",
    "        #h_1 = [batch size, 250]\n",
    "\n",
    "        h_2 = F.relu(self.hidden_fc(h_1))\n",
    "\n",
    "        #h_2 = [batch size, 100]\n",
    "\n",
    "        y_pred = self.output_fc(h_2)\n",
    "        \n",
    "        #y_pred = [batch size, output dim]\n",
    "        \n",
    "        return y_pred, h_2"
   ]
  },
  {
   "cell_type": "code",
   "execution_count": 97,
   "id": "d4aeb2be",
   "metadata": {},
   "outputs": [
    {
     "name": "stdout",
     "output_type": "stream",
     "text": [
      "3 148\n"
     ]
    }
   ],
   "source": [
    "INPUT_DIM = X_train.shape[1]\n",
    "OUTPUT_DIM = Y_train.shape[1]\n",
    "print(INPUT_DIM,OUTPUT_DIM )\n",
    "model = MLP(INPUT_DIM, OUTPUT_DIM)"
   ]
  },
  {
   "cell_type": "code",
   "execution_count": 98,
   "id": "d2278565",
   "metadata": {},
   "outputs": [
    {
     "name": "stdout",
     "output_type": "stream",
     "text": [
      "The model has 41,048 trainable parameters\n"
     ]
    }
   ],
   "source": [
    "def count_parameters(model):\n",
    "    return sum(p.numel() for p in model.parameters() if p.requires_grad)\n",
    "print(f'The model has {count_parameters(model):,} trainable parameters')"
   ]
  },
  {
   "cell_type": "code",
   "execution_count": 101,
   "id": "3f7adbe6",
   "metadata": {},
   "outputs": [],
   "source": [
    "optimizer = optim.Adam(model.parameters())\n",
    "criterion = nn.CrossEntropyLoss()\n",
    "device = torch.device('cuda' if torch.cuda.is_available() else 'cpu')\n",
    "model = model.to(device)\n",
    "criterion = criterion.to(device)"
   ]
  },
  {
   "cell_type": "code",
   "execution_count": 102,
   "id": "636d7aa0",
   "metadata": {},
   "outputs": [],
   "source": [
    "def calculate_accuracy(y_pred, y):\n",
    "    top_pred = y_pred.argmax(1, keepdim = True)\n",
    "    correct = top_pred.eq(y.view_as(top_pred)).sum()\n",
    "    acc = correct.float() / y.shape[0]\n",
    "    return acc"
   ]
  },
  {
   "cell_type": "code",
   "execution_count": 123,
   "id": "032e8102",
   "metadata": {},
   "outputs": [],
   "source": [
    "def train(model, iterator, optimizer, criterion, device):\n",
    "    \n",
    "    epoch_loss = 0\n",
    "    epoch_acc = 0\n",
    "    \n",
    "    model.train()\n",
    "    \n",
    "    for (x, y) in iterator:\n",
    "        \n",
    "        x = x.to(device)\n",
    "        y = y.to(device)\n",
    "        optimizer.zero_grad()\n",
    "                \n",
    "        y_pred, _ = model(x)\n",
    "        \n",
    "        loss = criterion(y_pred, y)\n",
    "        \n",
    "        acc = calculate_accuracy(y_pred, y)\n",
    "        \n",
    "        loss.backward()\n",
    "        \n",
    "        optimizer.step()\n",
    "        \n",
    "        epoch_loss += loss.item()\n",
    "        epoch_acc += acc.item()\n",
    "        \n",
    "    return epoch_loss / len(iterator), epoch_acc / len(iterator)"
   ]
  },
  {
   "cell_type": "code",
   "execution_count": 119,
   "id": "c60bebfb",
   "metadata": {},
   "outputs": [],
   "source": [
    "def evaluate(model, iterator, criterion, device):\n",
    "    \n",
    "    epoch_loss = 0\n",
    "    epoch_acc = 0\n",
    "    \n",
    "    model.eval()\n",
    "    \n",
    "    with torch.no_grad():\n",
    "        \n",
    "        for (x, y) in iterator:\n",
    "\n",
    "            x = x.to(device)\n",
    "            y = y.to(device)\n",
    "            \n",
    "            y_pred, _ = model(x)\n",
    "\n",
    "            loss = criterion(y_pred, y)\n",
    "\n",
    "            acc = calculate_accuracy(y_pred, y)\n",
    "\n",
    "            epoch_loss += loss.item()\n",
    "            epoch_acc += acc.item()\n",
    "        \n",
    "    return epoch_loss / len(iterator), epoch_acc / len(iterator)"
   ]
  },
  {
   "cell_type": "code",
   "execution_count": 120,
   "id": "2c421edc",
   "metadata": {},
   "outputs": [],
   "source": [
    "def epoch_time(start_time, end_time):\n",
    "    elapsed_time = end_time - start_time\n",
    "    elapsed_mins = int(elapsed_time / 60)\n",
    "    elapsed_secs = int(elapsed_time - (elapsed_mins * 60))\n",
    "    return elapsed_mins, elapsed_secs"
   ]
  },
  {
   "cell_type": "code",
   "execution_count": 161,
   "id": "e4acb0a8",
   "metadata": {},
   "outputs": [
    {
     "name": "stdout",
     "output_type": "stream",
     "text": [
      "Epoch: 01 | Epoch Time: 0m 0s\n",
      "\tTrain Loss: 4.681 | Train Acc: 3.12%\n",
      "\t Val. Loss: 4.826 |  Val. Acc: 3.17%\n",
      "Epoch: 02 | Epoch Time: 0m 0s\n",
      "\tTrain Loss: 4.667 | Train Acc: 3.26%\n",
      "\t Val. Loss: 4.817 |  Val. Acc: 1.17%\n",
      "Epoch: 03 | Epoch Time: 0m 0s\n",
      "\tTrain Loss: 4.627 | Train Acc: 2.97%\n",
      "\t Val. Loss: 4.776 |  Val. Acc: 3.17%\n",
      "Epoch: 04 | Epoch Time: 0m 0s\n",
      "\tTrain Loss: 4.615 | Train Acc: 3.75%\n",
      "\t Val. Loss: 4.773 |  Val. Acc: 1.17%\n",
      "Epoch: 05 | Epoch Time: 0m 0s\n",
      "\tTrain Loss: 4.577 | Train Acc: 3.65%\n",
      "\t Val. Loss: 4.830 |  Val. Acc: 1.17%\n",
      "Epoch: 06 | Epoch Time: 0m 0s\n",
      "\tTrain Loss: 4.624 | Train Acc: 2.52%\n",
      "\t Val. Loss: 4.899 |  Val. Acc: 1.56%\n",
      "Epoch: 07 | Epoch Time: 0m 0s\n",
      "\tTrain Loss: 4.585 | Train Acc: 2.86%\n",
      "\t Val. Loss: 4.823 |  Val. Acc: 1.99%\n",
      "Epoch: 08 | Epoch Time: 0m 0s\n",
      "\tTrain Loss: 4.582 | Train Acc: 3.05%\n",
      "\t Val. Loss: 4.788 |  Val. Acc: 1.17%\n",
      "Epoch: 09 | Epoch Time: 0m 0s\n",
      "\tTrain Loss: 4.538 | Train Acc: 3.20%\n",
      "\t Val. Loss: 4.861 |  Val. Acc: 3.56%\n",
      "Epoch: 10 | Epoch Time: 0m 0s\n",
      "\tTrain Loss: 4.560 | Train Acc: 4.06%\n",
      "\t Val. Loss: 4.876 |  Val. Acc: 1.17%\n"
     ]
    }
   ],
   "source": [
    "EPOCHS = 10\n",
    "\n",
    "best_valid_loss = float('inf')\n",
    "\n",
    "for epoch in range(EPOCHS):\n",
    "    \n",
    "    start_time = time.monotonic()\n",
    "    \n",
    "    train_loss, train_acc = train(model, train_iterator, optimizer, criterion, device)\n",
    "    valid_loss, valid_acc = evaluate(model, valid_iterator, criterion, device)\n",
    "    \n",
    "    if valid_loss < best_valid_loss:\n",
    "        best_valid_loss = valid_loss\n",
    "        torch.save(model.state_dict(), 'tut1-model.pt')\n",
    "    \n",
    "    end_time = time.monotonic()\n",
    "\n",
    "    epoch_mins, epoch_secs = epoch_time(start_time, end_time)\n",
    "    \n",
    "    print(f'Epoch: {epoch+1:02} | Epoch Time: {epoch_mins}m {epoch_secs}s')\n",
    "    print(f'\\tTrain Loss: {train_loss:.3f} | Train Acc: {train_acc*100:.2f}%')\n",
    "    print(f'\\t Val. Loss: {valid_loss:.3f} |  Val. Acc: {valid_acc*100:.2f}%')"
   ]
  },
  {
   "cell_type": "markdown",
   "id": "9a0a9d39",
   "metadata": {},
   "source": [
    "## Now we test the predictions "
   ]
  },
  {
   "cell_type": "code",
   "execution_count": 93,
   "id": "1e74b295",
   "metadata": {},
   "outputs": [
    {
     "data": {
      "text/plain": [
       "0.0"
      ]
     },
     "execution_count": 93,
     "metadata": {},
     "output_type": "execute_result"
    }
   ],
   "source": [
    "pipe.score(X_test,y_test)"
   ]
  },
  {
   "cell_type": "code",
   "execution_count": 18,
   "id": "5035689f",
   "metadata": {},
   "outputs": [
    {
     "data": {
      "text/plain": [
       "0       0\n",
       "1       0\n",
       "2       0\n",
       "3       0\n",
       "4       0\n",
       "       ..\n",
       "995    10\n",
       "996    10\n",
       "997    10\n",
       "998    10\n",
       "999    10\n",
       "Name: time_for_walk, Length: 1000, dtype: int64"
      ]
     },
     "execution_count": 18,
     "metadata": {},
     "output_type": "execute_result"
    }
   ],
   "source": [
    "demand['time_for_walk'].map(lambda x: x.hour)"
   ]
  },
  {
   "cell_type": "code",
   "execution_count": 30,
   "id": "746c5e35",
   "metadata": {},
   "outputs": [
    {
     "name": "stdout",
     "output_type": "stream",
     "text": [
      "(1000, 26)\n"
     ]
    }
   ],
   "source": [
    "vectorizer = CountVectorizer()\n",
    "X = vectorizer.fit_transform(demand['id_busStop'])\n",
    "features = vectorizer.get_feature_names()\n",
    "print(X.toarray().shape)"
   ]
  },
  {
   "cell_type": "code",
   "execution_count": 8,
   "id": "04ea02f1",
   "metadata": {},
   "outputs": [
    {
     "data": {
      "text/html": [
       "<div>\n",
       "<style scoped>\n",
       "    .dataframe tbody tr th:only-of-type {\n",
       "        vertical-align: middle;\n",
       "    }\n",
       "\n",
       "    .dataframe tbody tr th {\n",
       "        vertical-align: top;\n",
       "    }\n",
       "\n",
       "    .dataframe thead th {\n",
       "        text-align: right;\n",
       "    }\n",
       "</style>\n",
       "<table border=\"1\" class=\"dataframe\">\n",
       "  <thead>\n",
       "    <tr style=\"text-align: right;\">\n",
       "      <th></th>\n",
       "      <th>Unnamed: 0</th>\n",
       "      <th>index</th>\n",
       "      <th>Date/Time</th>\n",
       "      <th>Lat</th>\n",
       "      <th>Lon</th>\n",
       "      <th>Base</th>\n",
       "      <th>id_busStop</th>\n",
       "      <th>id_TrainStation</th>\n",
       "      <th>time_for_walk</th>\n",
       "      <th>time_for_bus</th>\n",
       "    </tr>\n",
       "  </thead>\n",
       "  <tbody>\n",
       "    <tr>\n",
       "      <th>0</th>\n",
       "      <td>0</td>\n",
       "      <td>0</td>\n",
       "      <td>2014-08-01 00:03:00</td>\n",
       "      <td>40.7366</td>\n",
       "      <td>-73.9906</td>\n",
       "      <td>B02512</td>\n",
       "      <td>152_bus_M15-SBS:1</td>\n",
       "      <td>136_subway_C:0</td>\n",
       "      <td>2014-08-01 00:03:00</td>\n",
       "      <td>2014-08-01 00:06:58.175473380</td>\n",
       "    </tr>\n",
       "    <tr>\n",
       "      <th>1</th>\n",
       "      <td>1</td>\n",
       "      <td>3</td>\n",
       "      <td>2014-08-01 00:12:00</td>\n",
       "      <td>40.7387</td>\n",
       "      <td>-73.9856</td>\n",
       "      <td>B02512</td>\n",
       "      <td>152_bus_M15-SBS:1</td>\n",
       "      <td>39_subway_N:1</td>\n",
       "      <td>2014-08-01 00:12:00</td>\n",
       "      <td>2014-08-01 00:17:50.227169220</td>\n",
       "    </tr>\n",
       "    <tr>\n",
       "      <th>2</th>\n",
       "      <td>2</td>\n",
       "      <td>9</td>\n",
       "      <td>2014-08-01 00:20:00</td>\n",
       "      <td>40.7448</td>\n",
       "      <td>-73.9799</td>\n",
       "      <td>B02512</td>\n",
       "      <td>122_bus_M15:0</td>\n",
       "      <td>41_subway_Q:0</td>\n",
       "      <td>2014-08-01 00:20:00</td>\n",
       "      <td>2014-08-01 00:28:29.057943900</td>\n",
       "    </tr>\n",
       "    <tr>\n",
       "      <th>3</th>\n",
       "      <td>3</td>\n",
       "      <td>10</td>\n",
       "      <td>2014-08-01 00:21:00</td>\n",
       "      <td>40.7399</td>\n",
       "      <td>-74.0057</td>\n",
       "      <td>B02512</td>\n",
       "      <td>127_bus_M11:1</td>\n",
       "      <td>29_subway_A:1</td>\n",
       "      <td>2014-08-01 00:21:00</td>\n",
       "      <td>2014-08-01 00:28:40.143447780</td>\n",
       "    </tr>\n",
       "    <tr>\n",
       "      <th>4</th>\n",
       "      <td>4</td>\n",
       "      <td>11</td>\n",
       "      <td>2014-08-01 00:25:00</td>\n",
       "      <td>40.7651</td>\n",
       "      <td>-73.9683</td>\n",
       "      <td>B02512</td>\n",
       "      <td>86_bus_Q32:0</td>\n",
       "      <td>154_subway_1:1</td>\n",
       "      <td>2014-08-01 00:25:00</td>\n",
       "      <td>2014-08-01 00:29:55.362038280</td>\n",
       "    </tr>\n",
       "  </tbody>\n",
       "</table>\n",
       "</div>"
      ],
      "text/plain": [
       "   Unnamed: 0  index            Date/Time      Lat      Lon    Base  \\\n",
       "0           0      0  2014-08-01 00:03:00  40.7366 -73.9906  B02512   \n",
       "1           1      3  2014-08-01 00:12:00  40.7387 -73.9856  B02512   \n",
       "2           2      9  2014-08-01 00:20:00  40.7448 -73.9799  B02512   \n",
       "3           3     10  2014-08-01 00:21:00  40.7399 -74.0057  B02512   \n",
       "4           4     11  2014-08-01 00:25:00  40.7651 -73.9683  B02512   \n",
       "\n",
       "          id_busStop id_TrainStation        time_for_walk  \\\n",
       "0  152_bus_M15-SBS:1  136_subway_C:0  2014-08-01 00:03:00   \n",
       "1  152_bus_M15-SBS:1   39_subway_N:1  2014-08-01 00:12:00   \n",
       "2      122_bus_M15:0   41_subway_Q:0  2014-08-01 00:20:00   \n",
       "3      127_bus_M11:1   29_subway_A:1  2014-08-01 00:21:00   \n",
       "4       86_bus_Q32:0  154_subway_1:1  2014-08-01 00:25:00   \n",
       "\n",
       "                    time_for_bus  \n",
       "0  2014-08-01 00:06:58.175473380  \n",
       "1  2014-08-01 00:17:50.227169220  \n",
       "2  2014-08-01 00:28:29.057943900  \n",
       "3  2014-08-01 00:28:40.143447780  \n",
       "4  2014-08-01 00:29:55.362038280  "
      ]
     },
     "execution_count": 8,
     "metadata": {},
     "output_type": "execute_result"
    }
   ],
   "source": [
    "demand.head()"
   ]
  },
  {
   "cell_type": "code",
   "execution_count": 38,
   "id": "0f237258",
   "metadata": {},
   "outputs": [
    {
     "data": {
      "text/plain": [
       "array([[ 40.7585, -73.9869,  15.    , ...,   0.    ,   0.    ,   0.    ],\n",
       "       [ 40.7359, -74.0053,  13.    , ...,   0.    ,   0.    ,   0.    ],\n",
       "       [ 40.7472, -73.9898,   9.    , ...,   0.    ,   0.    ,   0.    ],\n",
       "       ...,\n",
       "       [ 40.7654, -73.9831,  10.    , ...,   0.    ,   0.    ,   0.    ],\n",
       "       [ 40.756 , -73.9871,   0.    , ...,   0.    ,   0.    ,   0.    ],\n",
       "       [ 40.7416, -74.0036,  14.    , ...,   0.    ,   0.    ,   0.    ]])"
      ]
     },
     "execution_count": 38,
     "metadata": {},
     "output_type": "execute_result"
    }
   ],
   "source": []
  },
  {
   "cell_type": "code",
   "execution_count": null,
   "id": "92422908",
   "metadata": {},
   "outputs": [],
   "source": []
  }
 ],
 "metadata": {
  "kernelspec": {
   "display_name": "Python 3 (ipykernel)",
   "language": "python",
   "name": "python3"
  },
  "language_info": {
   "codemirror_mode": {
    "name": "ipython",
    "version": 3
   },
   "file_extension": ".py",
   "mimetype": "text/x-python",
   "name": "python",
   "nbconvert_exporter": "python",
   "pygments_lexer": "ipython3",
   "version": "3.9.7"
  }
 },
 "nbformat": 4,
 "nbformat_minor": 5
}
